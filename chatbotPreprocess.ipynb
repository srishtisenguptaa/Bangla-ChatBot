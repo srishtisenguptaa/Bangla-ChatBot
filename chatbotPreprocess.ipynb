{
 "cells": [
  {
   "cell_type": "code",
   "execution_count": 6,
   "id": "afbb560e",
   "metadata": {},
   "outputs": [
    {
     "name": "stdout",
     "output_type": "stream",
     "text": [
      "                                              corpus\n",
      "0  {'intent': 'greeting', 'input': ['হ্যালো!', 'ন...\n",
      "1  {'intent': 'farewell', 'input': ['বিদায়!', 'আ...\n",
      "2  {'intent': 'information', 'input': ['আপনার নাম...\n"
     ]
    }
   ],
   "source": [
    "import json\n",
    "import pandas as pd\n",
    "from bnlp import SentencepieceTokenizer\n",
    "bsp = SentencepieceTokenizer()\n",
    "model_path = \"bangla_corpus.json\"\n",
    "tokens = pd.read_json(model_path, encoding='utf-8')\n",
    "print(tokens.head(5))"
   ]
  },
  {
   "cell_type": "code",
   "execution_count": 15,
   "id": "bf577cc5",
   "metadata": {},
   "outputs": [
    {
     "ename": "IndentationError",
     "evalue": "unindent does not match any outer indentation level (<tokenize>, line 25)",
     "output_type": "error",
     "traceback": [
      "\u001b[1;36m  File \u001b[1;32m<tokenize>:25\u001b[1;36m\u001b[0m\n\u001b[1;33m    return \" \".join(filtered_token)\u001b[0m\n\u001b[1;37m    ^\u001b[0m\n\u001b[1;31mIndentationError\u001b[0m\u001b[1;31m:\u001b[0m unindent does not match any outer indentation level\n"
     ]
    }
   ],
   "source": [
    "from bnlp.corpus import stopwords, punctuations\n",
    "from bnlp.corpus.util import remove_stopwords\n",
    "from bnltk.stemmer import BanglaStemmer\n",
    "import pandas as pd\n",
    "df=pd.read_csv(\"bangla_corpus (1).csv\")\n",
    "bn_stemmer = BanglaStemmer()\n",
    "def remove_punc(text):\n",
    "    punct=punctuations\n",
    "    return text.translate(str.maketrans('','',punct))\n",
    "remove_punc(\"নমস্কার, আমি হলাম আপনার ই-সহকারী, আমি আপনাকে কিভাবে সাহায্য করতে পারি?\")\n",
    "\n",
    "def preprocess(df):\n",
    "    filtered_token=[]\n",
    "    for token in df:\n",
    "        if token is punctuations or token is stopwords:\n",
    "            \n",
    "            res=remove_stopwords(token,stopwords)\n",
    "            remove_punc(res)\n",
    "            #bn_stemmer.stem(res)\n",
    "            continue                \n",
    "       \n",
    "            filtered_token.append(res)\n",
    "        \n",
    "       \n",
    "     return \" \".join(filtered_token)\n",
    "        \n",
    "preprocess(\"নমস্কার, আমি হলাম আপনার ই-সহকারী, আমি আপনাকে কিভাবে সাহায্য করতে পারি?\")    "
   ]
  },
  {
   "cell_type": "code",
   "execution_count": 4,
   "id": "78bab287",
   "metadata": {},
   "outputs": [
    {
     "data": {
      "text/plain": [
       "'নমস্কার আমি হলাম আপনার ইসহকারী আমি আপনাকে কিভাবে সাহায্য করতে পারি'"
      ]
     },
     "execution_count": 4,
     "metadata": {},
     "output_type": "execute_result"
    }
   ],
   "source": [
    "def remove_punc(text):\n",
    "    punct=punctuations\n",
    "    return text.translate(str.maketrans('','',punct))\n",
    "remove_punc(\"নমস্কার, আমি হলাম আপনার ই-সহকারী,()| আমি আপনাকে কিভাবে সাহায্য করতে পারি?\")"
   ]
  },
  {
   "cell_type": "code",
   "execution_count": null,
   "id": "378019b7",
   "metadata": {},
   "outputs": [],
   "source": []
  }
 ],
 "metadata": {
  "kernelspec": {
   "display_name": "Python 3 (ipykernel)",
   "language": "python",
   "name": "python3"
  },
  "language_info": {
   "codemirror_mode": {
    "name": "ipython",
    "version": 3
   },
   "file_extension": ".py",
   "mimetype": "text/x-python",
   "name": "python",
   "nbconvert_exporter": "python",
   "pygments_lexer": "ipython3",
   "version": "3.11.3"
  },
  "varInspector": {
   "cols": {
    "lenName": 16,
    "lenType": 16,
    "lenVar": 40
   },
   "kernels_config": {
    "python": {
     "delete_cmd_postfix": "",
     "delete_cmd_prefix": "del ",
     "library": "var_list.py",
     "varRefreshCmd": "print(var_dic_list())"
    },
    "r": {
     "delete_cmd_postfix": ") ",
     "delete_cmd_prefix": "rm(",
     "library": "var_list.r",
     "varRefreshCmd": "cat(var_dic_list()) "
    }
   },
   "types_to_exclude": [
    "module",
    "function",
    "builtin_function_or_method",
    "instance",
    "_Feature"
   ],
   "window_display": false
  }
 },
 "nbformat": 4,
 "nbformat_minor": 5
}
