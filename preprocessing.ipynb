{
 "cells": [
  {
   "cell_type": "code",
   "execution_count": 1,
   "id": "0e0dce4b",
   "metadata": {},
   "outputs": [
    {
     "data": {
      "text/html": [
       "<div>\n",
       "<style scoped>\n",
       "    .dataframe tbody tr th:only-of-type {\n",
       "        vertical-align: middle;\n",
       "    }\n",
       "\n",
       "    .dataframe tbody tr th {\n",
       "        vertical-align: top;\n",
       "    }\n",
       "\n",
       "    .dataframe thead th {\n",
       "        text-align: right;\n",
       "    }\n",
       "</style>\n",
       "<table border=\"1\" class=\"dataframe\">\n",
       "  <thead>\n",
       "    <tr style=\"text-align: right;\">\n",
       "      <th></th>\n",
       "      <th>intent</th>\n",
       "      <th>input__001</th>\n",
       "      <th>input__002</th>\n",
       "      <th>input__003</th>\n",
       "      <th>input__004</th>\n",
       "      <th>input__005</th>\n",
       "      <th>response__001</th>\n",
       "      <th>response__002</th>\n",
       "      <th>response__003</th>\n",
       "    </tr>\n",
       "  </thead>\n",
       "  <tbody>\n",
       "    <tr>\n",
       "      <th>0</th>\n",
       "      <td>greeting</td>\n",
       "      <td>হ্যালো!</td>\n",
       "      <td>নমস্কার!</td>\n",
       "      <td>কেমন আছো?</td>\n",
       "      <td>শুভ সকাল!</td>\n",
       "      <td>স্বাগতম!</td>\n",
       "      <td>প্রিয় গ্রাহক, ই-সমবায় বাঙ্কিং এ আপনাকে স্বাগত....</td>\n",
       "      <td>নমস্কার, আমি হলাম আপনার ই-সহকারী, আমি আপনাকে ক...</td>\n",
       "      <td>হ্যাঁ বলুন, আমি আপনাকে কিভাবে সাহায্য করতে পারি?</td>\n",
       "    </tr>\n",
       "    <tr>\n",
       "      <th>1</th>\n",
       "      <td>farewell</td>\n",
       "      <td>বিদায়!</td>\n",
       "      <td>আবার দেখা হবে!</td>\n",
       "      <td>খুব খুশি হয়েছে আপনার সাথে কথা বলতে!</td>\n",
       "      <td>শুভ অস্ত</td>\n",
       "      <td>পুনরায় দেখা হবে!</td>\n",
       "      <td>প্রিয় গ্রাহক, আপনাকে অসংখ্য ধন্যবাদ  ই-সমবায় ব...</td>\n",
       "      <td>ধন্যবাদ, আমি আপনাকে আর কোন সাহায্য করতে পারি?</td>\n",
       "      <td>NaN</td>\n",
       "    </tr>\n",
       "    <tr>\n",
       "      <th>2</th>\n",
       "      <td>information</td>\n",
       "      <td>আপনার নাম কি?</td>\n",
       "      <td>আপনার সম্পর্কে কথা বলুন।</td>\n",
       "      <td>আপনি কি করেন?</td>\n",
       "      <td>কিভাবে আপনি সাহায্য করতে পারেন?</td>\n",
       "      <td>আপনাকে কে তৈরি করেছেন?</td>\n",
       "      <td>আমার নাম ই-বাঙ্কার, আমি গ্রাহকদের সুবিধার জন্য...</td>\n",
       "      <td>NaN</td>\n",
       "      <td>NaN</td>\n",
       "    </tr>\n",
       "  </tbody>\n",
       "</table>\n",
       "</div>"
      ],
      "text/plain": [
       "        intent     input__001                input__002  \\\n",
       "0     greeting        হ্যালো!                  নমস্কার!   \n",
       "1     farewell        বিদায়!            আবার দেখা হবে!   \n",
       "2  information  আপনার নাম কি?  আপনার সম্পর্কে কথা বলুন।   \n",
       "\n",
       "                             input__003                       input__004  \\\n",
       "0                             কেমন আছো?                        শুভ সকাল!   \n",
       "1  খুব খুশি হয়েছে আপনার সাথে কথা বলতে!                         শুভ অস্ত   \n",
       "2                         আপনি কি করেন?  কিভাবে আপনি সাহায্য করতে পারেন?   \n",
       "\n",
       "               input__005                                      response__001  \\\n",
       "0                স্বাগতম!  প্রিয় গ্রাহক, ই-সমবায় বাঙ্কিং এ আপনাকে স্বাগত....   \n",
       "1       পুনরায় দেখা হবে!  প্রিয় গ্রাহক, আপনাকে অসংখ্য ধন্যবাদ  ই-সমবায় ব...   \n",
       "2  আপনাকে কে তৈরি করেছেন?  আমার নাম ই-বাঙ্কার, আমি গ্রাহকদের সুবিধার জন্য...   \n",
       "\n",
       "                                       response__002  \\\n",
       "0  নমস্কার, আমি হলাম আপনার ই-সহকারী, আমি আপনাকে ক...   \n",
       "1      ধন্যবাদ, আমি আপনাকে আর কোন সাহায্য করতে পারি?   \n",
       "2                                                NaN   \n",
       "\n",
       "                                      response__003  \n",
       "0  হ্যাঁ বলুন, আমি আপনাকে কিভাবে সাহায্য করতে পারি?  \n",
       "1                                               NaN  \n",
       "2                                               NaN  "
      ]
     },
     "execution_count": 1,
     "metadata": {},
     "output_type": "execute_result"
    }
   ],
   "source": [
    "import pandas as pd\n",
    "import regex as re\n",
    "import string\n",
    "data=pd.read_csv(\"bangla_corpus (1).csv\")\n",
    "data.head()\n"
   ]
  },
  {
   "cell_type": "code",
   "execution_count": 2,
   "id": "2db4e851",
   "metadata": {
    "scrolled": true
   },
   "outputs": [
    {
     "name": "stderr",
     "output_type": "stream",
     "text": [
      "WARNING:root:The current version (3.3.2) of bnlp will not be compatible with the upcoming release.\n",
      "If you are using version <=3.3.2 please specify bnlp_toolkit with exact version, otherwise it will raises error in the upcoming version. \n",
      "To migrate feel free to checkout the newer version (4.0.0). It will release soon as beta.\n"
     ]
    },
    {
     "name": "stdout",
     "output_type": "stream",
     "text": [
      "[[['greeting'], ['farewell'], ['information']], [['হ্যালো'], ['বিদায়'], ['নাম']], [['নমস্কার'], [], ['সম্পর্কে', 'কথা', 'বলুন']], [['কেমন', 'আছো'], ['খুশি', 'সাথে', 'কথা'], []], [['শুভ', 'সকাল'], ['শুভ', 'অস্ত'], ['কিভাবে', 'সাহায্য']], [['স্বাগতম'], ['পুনরায়'], ['আপনাকে', 'তৈরি']], [['প্রিয়', 'গ্রাহক', 'ইসমবায়', 'বাঙ্কিং', 'আপনাকে', 'স্বাগত', 'আপনাকে', 'কিভাবে', 'সাহায্য'], ['প্রিয়', 'গ্রাহক', 'আপনাকে', 'অসংখ্য', 'ধন্যবাদ', 'ইসমবায়', 'বাঙ্কিং', 'চ্যাটবট', 'ব্যাবহার', 'শুভ'], ['নাম', 'ইবাঙ্কার', 'গ্রাহকদের', 'সুবিধার', 'নির্মিত', 'এক', 'চ্যাটবট', 'সাধারণত', 'গ্রাহকদের', 'বাঙ্কের', 'অ্যাকাউন্ট', 'ঋণ', 'যেকোনো', 'ধরণের', 'ব্যাংক', 'সম্পর্কিত', 'প্রশ্নের', 'দেওার', 'তৈরি', 'হয়েছি']], [['নমস্কার', 'হলাম', 'ইসহকারী', 'আপনাকে', 'কিভাবে', 'সাহায্য'], ['ধন্যবাদ', 'আপনাকে', 'সাহায্য'], nan], [['হ্যাঁ', 'বলুন', 'আপনাকে', 'কিভাবে', 'সাহায্য'], nan, nan]]\n"
     ]
    }
   ],
   "source": [
    "\n",
    "import pandas as pd\n",
    "import regex as re\n",
    "import string\n",
    "from bnlp.corpus import stopwords, punctuations\n",
    "from bnlp.corpus.util import remove_stopwords\n",
    "from bnlp.corpus import stopwords, punctuations\n",
    "\n",
    "\n",
    "\n",
    "def remove_punc_stopwords(data):\n",
    "     punct = punctuations\n",
    "     cleaned_data = []\n",
    "     \n",
    "\n",
    "     for a in data:\n",
    "        if isinstance(a, str):  # Check if the element is a string\n",
    "            cleaned_a = remove_stopwords(a.translate(str.maketrans('', '', punct)), stopwords)\n",
    "\n",
    "            #cleaned_a=bnltk.word_tokenize(cleaned_a)\n",
    "        \n",
    "            cleaned_data.append(cleaned_a)\n",
    "            \n",
    "        else:\n",
    "            cleaned_data.append(a)  # If not a string, keep the original value\n",
    "\n",
    "     return cleaned_data\n",
    "  \n",
    "# def loaddata (filename):\n",
    "from bnlp.tokenizer.nltk import NLTKTokenizer\n",
    "bnltk = NLTKTokenizer()\n",
    "\n",
    "cleaned_data = []\n",
    "for a in data:\n",
    "    s=remove_punc_stopwords(data[a])\n",
    "    cleaned_data.append(s)\n",
    "    #print(s)\n",
    "    \n",
    "\n",
    "    \n",
    "    \n",
    "\n",
    "print(cleaned_data)\n",
    "              \n",
    "#print(remove_punc(\"bangla_corpus (1).csv\"))"
   ]
  },
  {
   "cell_type": "code",
   "execution_count": 3,
   "id": "28f0a54c",
   "metadata": {},
   "outputs": [
    {
     "name": "stdout",
     "output_type": "stream",
     "text": [
      "হ্যালো\n",
      "বিদায়\n",
      "নাম\n",
      "নমস্ক\n",
      "\n",
      "সম্পর্ | কথা | বলুন\n",
      "কেমন | আছো\n",
      "খুশি | সাথ | কথা\n",
      "\n",
      "শুভ | সকাল\n",
      "শুভ | অস্ত\n",
      "কিভাব | সাহায্য\n",
      "স্বাগতম\n",
      "পুনরায়\n",
      "আপনা | তৈরি\n",
      "প্রি | গ্রাহক | ইসমবা | বাঙ্কিং | আপনা | স্বাগত | আপনা | কিভাব | সাহায্য\n",
      "প্রি | গ্রাহক | আপনা | অসংখ্য | ধন্যবাদ | ইসমবা | বাঙ্কিং | চ্যাটবট | ব্যাবহ | শুভ\n",
      "নাম | ইবাঙ্ক | গ্রাহক | সুবিধ | নির্মিত | এক | চ্যাটবট | সাধারণত | গ্রাহক | বাঙ্ক | অ্যাকাউন্ট | ঋণ | যেকোনো | ধরণ | ব্যাংক | সম্পর্কিত | প্রশ্ন | দেও | তৈরি | হয়ে\n",
      "নমস্ক | হলাম | ইসহকারী | আপনা | কিভাব | সাহায্য\n",
      "ধন্যবাদ | আপনা | সাহায্য\n",
      "হ্যাঁ | বলুন | আপনা | কিভাব | সাহায্য\n"
     ]
    }
   ],
   "source": [
    "from bnltk.stemmer import BanglaStemmer\n",
    "import math \n",
    "bn_stemmer = BanglaStemmer()\n",
    "\n",
    "def stem_word(word):\n",
    "    return bn_stemmer.stem(word)\n",
    "\n",
    "stemmed_main_list = []\n",
    "for main_list in cleaned_data[1:]:\n",
    "    #stemmed_main_list = []\n",
    "    for sub_list in main_list:\n",
    "        if isinstance(sub_list, list):\n",
    "            stemmed_sub_list = [stem_word(word) for word in sub_list]\n",
    "            stemmed_main_list.append(stemmed_sub_list)\n",
    "        elif isinstance(sub_list, str):\n",
    "            stemmed_main_list.append(stem_word(sub_list))\n",
    "        \n",
    "\n",
    "for main_list in stemmed_main_list:\n",
    "    print(' | '.join(main_list))\n"
   ]
  },
  {
   "cell_type": "code",
   "execution_count": 5,
   "id": "d0a11377",
   "metadata": {},
   "outputs": [
    {
     "name": "stderr",
     "output_type": "stream",
     "text": [
      "[nltk_data] Downloading package averaged_perceptron_tagger to\n",
      "[nltk_data]     C:\\Users\\HP\\AppData\\Roaming\\nltk_data...\n",
      "[nltk_data]   Package averaged_perceptron_tagger is already up-to-\n",
      "[nltk_data]       date!\n",
      "[nltk_data] Downloading package punkt to\n",
      "[nltk_data]     C:\\Users\\HP\\AppData\\Roaming\\nltk_data...\n",
      "[nltk_data]   Package punkt is already up-to-date!\n",
      "[nltk_data] Downloading package stopwords to\n",
      "[nltk_data]     C:\\Users\\HP\\AppData\\Roaming\\nltk_data...\n",
      "[nltk_data]   Package stopwords is already up-to-date!\n"
     ]
    },
    {
     "name": "stdout",
     "output_type": "stream",
     "text": [
      "You: হ্যালো\n",
      "Bot: হাই\n",
      "You: আপনি কি করেন?\n",
      "Bot: কি খবর?\n"
     ]
    },
    {
     "ename": "KeyboardInterrupt",
     "evalue": "Interrupted by user",
     "output_type": "error",
     "traceback": [
      "\u001b[1;31m---------------------------------------------------------------------------\u001b[0m",
      "\u001b[1;31mKeyboardInterrupt\u001b[0m                         Traceback (most recent call last)",
      "Cell \u001b[1;32mIn[5], line 14\u001b[0m\n\u001b[0;32m     11\u001b[0m trainer\u001b[38;5;241m.\u001b[39mtrain(cleaned_data_flat)\n\u001b[0;32m     13\u001b[0m \u001b[38;5;28;01mwhile\u001b[39;00m \u001b[38;5;28;01mTrue\u001b[39;00m:\n\u001b[1;32m---> 14\u001b[0m     user_input \u001b[38;5;241m=\u001b[39m \u001b[38;5;28;43minput\u001b[39;49m\u001b[43m(\u001b[49m\u001b[38;5;124;43m'\u001b[39;49m\u001b[38;5;124;43mYou: \u001b[39;49m\u001b[38;5;124;43m'\u001b[39;49m\u001b[43m)\u001b[49m\n\u001b[0;32m     15\u001b[0m     \u001b[38;5;28;01mif\u001b[39;00m user_input\u001b[38;5;241m.\u001b[39mlower() \u001b[38;5;129;01min\u001b[39;00m [\u001b[38;5;124m'\u001b[39m\u001b[38;5;124mধন্যবাদ\u001b[39m\u001b[38;5;124m'\u001b[39m]:\n\u001b[0;32m     16\u001b[0m         \u001b[38;5;28;01mbreak\u001b[39;00m\n",
      "File \u001b[1;32m~\\anaconda3\\envs\\tf2\\lib\\site-packages\\ipykernel\\kernelbase.py:1175\u001b[0m, in \u001b[0;36mKernel.raw_input\u001b[1;34m(self, prompt)\u001b[0m\n\u001b[0;32m   1171\u001b[0m \u001b[38;5;28;01mif\u001b[39;00m \u001b[38;5;129;01mnot\u001b[39;00m \u001b[38;5;28mself\u001b[39m\u001b[38;5;241m.\u001b[39m_allow_stdin:\n\u001b[0;32m   1172\u001b[0m     \u001b[38;5;28;01mraise\u001b[39;00m StdinNotImplementedError(\n\u001b[0;32m   1173\u001b[0m         \u001b[38;5;124m\"\u001b[39m\u001b[38;5;124mraw_input was called, but this frontend does not support input requests.\u001b[39m\u001b[38;5;124m\"\u001b[39m\n\u001b[0;32m   1174\u001b[0m     )\n\u001b[1;32m-> 1175\u001b[0m \u001b[38;5;28;01mreturn\u001b[39;00m \u001b[38;5;28;43mself\u001b[39;49m\u001b[38;5;241;43m.\u001b[39;49m\u001b[43m_input_request\u001b[49m\u001b[43m(\u001b[49m\n\u001b[0;32m   1176\u001b[0m \u001b[43m    \u001b[49m\u001b[38;5;28;43mstr\u001b[39;49m\u001b[43m(\u001b[49m\u001b[43mprompt\u001b[49m\u001b[43m)\u001b[49m\u001b[43m,\u001b[49m\n\u001b[0;32m   1177\u001b[0m \u001b[43m    \u001b[49m\u001b[38;5;28;43mself\u001b[39;49m\u001b[38;5;241;43m.\u001b[39;49m\u001b[43m_parent_ident\u001b[49m\u001b[43m[\u001b[49m\u001b[38;5;124;43m\"\u001b[39;49m\u001b[38;5;124;43mshell\u001b[39;49m\u001b[38;5;124;43m\"\u001b[39;49m\u001b[43m]\u001b[49m\u001b[43m,\u001b[49m\n\u001b[0;32m   1178\u001b[0m \u001b[43m    \u001b[49m\u001b[38;5;28;43mself\u001b[39;49m\u001b[38;5;241;43m.\u001b[39;49m\u001b[43mget_parent\u001b[49m\u001b[43m(\u001b[49m\u001b[38;5;124;43m\"\u001b[39;49m\u001b[38;5;124;43mshell\u001b[39;49m\u001b[38;5;124;43m\"\u001b[39;49m\u001b[43m)\u001b[49m\u001b[43m,\u001b[49m\n\u001b[0;32m   1179\u001b[0m \u001b[43m    \u001b[49m\u001b[43mpassword\u001b[49m\u001b[38;5;241;43m=\u001b[39;49m\u001b[38;5;28;43;01mFalse\u001b[39;49;00m\u001b[43m,\u001b[49m\n\u001b[0;32m   1180\u001b[0m \u001b[43m\u001b[49m\u001b[43m)\u001b[49m\n",
      "File \u001b[1;32m~\\anaconda3\\envs\\tf2\\lib\\site-packages\\ipykernel\\kernelbase.py:1217\u001b[0m, in \u001b[0;36mKernel._input_request\u001b[1;34m(self, prompt, ident, parent, password)\u001b[0m\n\u001b[0;32m   1214\u001b[0m             \u001b[38;5;28;01mbreak\u001b[39;00m\n\u001b[0;32m   1215\u001b[0m \u001b[38;5;28;01mexcept\u001b[39;00m \u001b[38;5;167;01mKeyboardInterrupt\u001b[39;00m:\n\u001b[0;32m   1216\u001b[0m     \u001b[38;5;66;03m# re-raise KeyboardInterrupt, to truncate traceback\u001b[39;00m\n\u001b[1;32m-> 1217\u001b[0m     \u001b[38;5;28;01mraise\u001b[39;00m \u001b[38;5;167;01mKeyboardInterrupt\u001b[39;00m(\u001b[38;5;124m\"\u001b[39m\u001b[38;5;124mInterrupted by user\u001b[39m\u001b[38;5;124m\"\u001b[39m) \u001b[38;5;28;01mfrom\u001b[39;00m \u001b[38;5;28;01mNone\u001b[39;00m\n\u001b[0;32m   1218\u001b[0m \u001b[38;5;28;01mexcept\u001b[39;00m \u001b[38;5;167;01mException\u001b[39;00m:\n\u001b[0;32m   1219\u001b[0m     \u001b[38;5;28mself\u001b[39m\u001b[38;5;241m.\u001b[39mlog\u001b[38;5;241m.\u001b[39mwarning(\u001b[38;5;124m\"\u001b[39m\u001b[38;5;124mInvalid Message:\u001b[39m\u001b[38;5;124m\"\u001b[39m, exc_info\u001b[38;5;241m=\u001b[39m\u001b[38;5;28;01mTrue\u001b[39;00m)\n",
      "\u001b[1;31mKeyboardInterrupt\u001b[0m: Interrupted by user"
     ]
    }
   ],
   "source": [
    "from chatterbot import ChatBot\n",
    "from chatterbot.trainers import ListTrainer\n",
    "\n",
    "chatBot = ChatBot('MychatBot',language=\"bn_BD\")\n",
    "\n",
    "trainer = ListTrainer(chatbot)\n",
    "\n",
    "# Flatten the list of lists and filter out non-string elements\n",
    "cleaned_data_flat = [item for sublist in cleaned_data for item in sublist if isinstance(item, str)]\n",
    "\n",
    "trainer.train(cleaned_data_flat)\n",
    "\n",
    "while True:\n",
    "    user_input = input('You: ')\n",
    "    if user_input.lower() in ['ধন্যবাদ']:\n",
    "        break\n",
    "    response = chatbot.get_response(user_input)\n",
    "    print('Bot:', response)\n"
   ]
  },
  {
   "cell_type": "code",
   "execution_count": null,
   "id": "5562fec7",
   "metadata": {},
   "outputs": [],
   "source": []
  }
 ],
 "metadata": {
  "kernelspec": {
   "display_name": "Python 3 (ipykernel)",
   "language": "python",
   "name": "python3"
  },
  "language_info": {
   "codemirror_mode": {
    "name": "ipython",
    "version": 3
   },
   "file_extension": ".py",
   "mimetype": "text/x-python",
   "name": "python",
   "nbconvert_exporter": "python",
   "pygments_lexer": "ipython3",
   "version": "3.9.17"
  },
  "varInspector": {
   "cols": {
    "lenName": 16,
    "lenType": 16,
    "lenVar": 40
   },
   "kernels_config": {
    "python": {
     "delete_cmd_postfix": "",
     "delete_cmd_prefix": "del ",
     "library": "var_list.py",
     "varRefreshCmd": "print(var_dic_list())"
    },
    "r": {
     "delete_cmd_postfix": ") ",
     "delete_cmd_prefix": "rm(",
     "library": "var_list.r",
     "varRefreshCmd": "cat(var_dic_list()) "
    }
   },
   "types_to_exclude": [
    "module",
    "function",
    "builtin_function_or_method",
    "instance",
    "_Feature"
   ],
   "window_display": false
  }
 },
 "nbformat": 4,
 "nbformat_minor": 5
}
